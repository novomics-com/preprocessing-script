{
 "cells": [
  {
   "cell_type": "code",
   "execution_count": 2,
   "id": "632c797a-a20c-4536-860d-626759c464b1",
   "metadata": {},
   "outputs": [],
   "source": [
    "import os\n",
    "import glob\n",
    "import tifffile\n",
    "import tqdm\n",
    "\n",
    "from PIL import Image\n",
    "\n",
    "import openslide as osd\n",
    "import numpy as np"
   ]
  },
  {
   "cell_type": "code",
   "execution_count": 3,
   "id": "cc4d9424-b1c6-4602-b458-f92744401bc3",
   "metadata": {},
   "outputs": [
    {
     "name": "stderr",
     "output_type": "stream",
     "text": [
      "Processing SVS files: 100% 1/1 [05:33<00:00, 333.86s/it]\n"
     ]
    }
   ],
   "source": [
    "PATH_SVS_DIR = \"/mnt/data/IMAGE/2023_01_NPOG확증임상/LEICA/03 등록 102/0.svs\"\n",
    "PATH_TIF_DIR = \"../temp\"\n",
    "\n",
    "os.path.exists(PATH_SVS_DIR)\n",
    "files = os.listdir(PATH_SVS_DIR)\n",
    "\n",
    "\n",
    "for svs_path in tqdm.tqdm(glob.glob(f\"{PATH_SVS_DIR}/*.svs\")[:1], desc='Processing SVS files'):\n",
    "    path_new_tif = os.path.join(PATH_TIF_DIR, os.path.basename(svs_path)[:-4])+\".tif\"\n",
    "    slide = osd.OpenSlide(svs_path)\n",
    "    images = [np.array(slide.read_region((0, 0), level, slide.level_dimensions[level])) for level in range(slide.level_count)]\n",
    "    with tifffile.TiffWriter(path_new_tif, bigtiff=True) as tif:\n",
    "        for img in images:\n",
    "            tif.save(img[:, :, :3])\n"
   ]
  },
  {
   "cell_type": "code",
   "execution_count": 8,
   "id": "12921edd-b44d-4f46-8da2-0e408732cf85",
   "metadata": {},
   "outputs": [
    {
     "name": "stderr",
     "output_type": "stream",
     "text": [
      "/tmp/ipykernel_423/1093925419.py:3: DeprecationWarning: <tifffile.TiffWriter.save> is deprecated. Use TiffWriter.write\n",
      "  tif.save(img[:, :, :3])\n"
     ]
    }
   ],
   "source": [
    "with tifffile.TiffWriter(path_new_tif, bigtiff=True) as tif:\n",
    "    for img in images:\n",
    "        tif.save(img[:, :, :3])"
   ]
  },
  {
   "cell_type": "code",
   "execution_count": 11,
   "id": "5f50c8c4-bcce-4584-bf52-90c1b37ea157",
   "metadata": {},
   "outputs": [
    {
     "data": {
      "text/plain": [
       "3"
      ]
     },
     "execution_count": 11,
     "metadata": {},
     "output_type": "execute_result"
    }
   ],
   "source": [
    "type(images)\n",
    "len(images)"
   ]
  }
 ],
 "metadata": {
  "kernelspec": {
   "display_name": "Python 3 (ipykernel)",
   "language": "python",
   "name": "python3"
  },
  "language_info": {
   "codemirror_mode": {
    "name": "ipython",
    "version": 3
   },
   "file_extension": ".py",
   "mimetype": "text/x-python",
   "name": "python",
   "nbconvert_exporter": "python",
   "pygments_lexer": "ipython3",
   "version": "3.8.10"
  }
 },
 "nbformat": 4,
 "nbformat_minor": 5
}
